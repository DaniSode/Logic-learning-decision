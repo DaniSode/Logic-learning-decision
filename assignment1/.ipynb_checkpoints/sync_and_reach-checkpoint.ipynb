{
 "cells": [
  {
   "cell_type": "markdown",
   "metadata": {
    "deletable": false,
    "editable": false,
    "nbgrader": {
     "cell_type": "markdown",
     "checksum": "2b163c76ffa6f9ec5cd5e13eea0a85cf",
     "grade": false,
     "grade_id": "cell-6ec5aa4507a8f918",
     "locked": true,
     "schema_version": 3,
     "solution": false
    }
   },
   "source": [
    "<center>\n",
    "\n",
    "# Discrete Event Systems\n",
    "\n",
    "## Home Assignment 1\n",
    "\n",
    "### Synchronization and Reachability Analysis\n",
    "\n",
    "- - -"
   ]
  },
  {
   "cell_type": "markdown",
   "metadata": {
    "deletable": false,
    "editable": false,
    "nbgrader": {
     "cell_type": "markdown",
     "checksum": "b59815cab90555ca43de972ac62f8ed9",
     "grade": false,
     "grade_id": "cell-d299ce342e54a4d8",
     "locked": true,
     "schema_version": 3,
     "solution": false
    }
   },
   "source": [
    "# Introduction\n",
    "\n",
    "The objective of this home assignment is to get a deeper understanding of some basic features of discrete event systems. This will be achieved by implementing a few key functions in Python, including the computation of coreachable states, as well as the synchronous composition of two automata. These functions are then applied to the analysis of a simple coordination control system.\n",
    "\n",
    "This home assignment is performed in *two member groups*. Write all your answers into this notebook and **submit only this notebook (.ipynb) on Canvas**"
   ]
  },
  {
   "cell_type": "markdown",
   "metadata": {
    "deletable": false,
    "editable": false,
    "nbgrader": {
     "cell_type": "markdown",
     "checksum": "419d1a5c7b4d3cca3daa075a525abaa9",
     "grade": false,
     "grade_id": "cell-8dfe6514b5b0e564",
     "locked": true,
     "schema_version": 3,
     "solution": false
    }
   },
   "source": [
    "## Comments and Recommendations\n",
    "\n",
    "* As before, the following resources will be of great help to you for this assignment:\n",
    " * DES lecture notes\n",
    " * [Python docs](https://docs.python.org/3/)\n",
    " * [Google](https://www.google.com)\n",
    " * [Wikipedia overview of syntax and semantics](https://en.wikipedia.org/wiki/Python_syntax_and_semantics) \n",
    "* We will work extensively with **sets** in this assignment: \n",
    " * A set is created either through `set(*iterable*)` or by listing its elements between curly braces `{*iterable*}`; \n",
    " * An empty set must be created by `set()`. `{}` will create an empty dictionary; \n",
    " * You will also see often something like `{elem for elem in items if elem}`. This is called a *set comprehension* and builds efficiently a new set by iterating over `items` and adding the `elem` for which the if-statement is true; \n",
    " * Have an extensive look at [the set documentation](https://docs.python.org/3/library/stdtypes.html#set) for more information on set methods. Use set methods as much as possible.  \n",
    "* The assignment is written for Python 3.5 or later.\n",
    "* If your code passes all the tests in this notebook, you are on a good way. That does not mean you have passed though! **We will test your code with additional edge cases.** So, convince yourself that everything is correct before you submit, e.g. *through your own test cases*."
   ]
  },
  {
   "cell_type": "markdown",
   "metadata": {
    "deletable": false,
    "editable": false,
    "nbgrader": {
     "cell_type": "markdown",
     "checksum": "c1ff1490f5f6ed2f4bc2f7a407965184",
     "grade": false,
     "grade_id": "cell-14d9e8d5cc01d1b4",
     "locked": true,
     "schema_version": 3,
     "solution": false
    }
   },
   "source": [
    "- - -"
   ]
  },
  {
   "cell_type": "markdown",
   "metadata": {
    "deletable": false,
    "editable": false,
    "nbgrader": {
     "cell_type": "markdown",
     "checksum": "b77637f268a1ca8905d56b5c7cd82e20",
     "grade": false,
     "grade_id": "cell-bd0cf70d10622a53",
     "locked": true,
     "schema_version": 3,
     "solution": false
    }
   },
   "source": [
    "# Data Structures\n",
    "\n",
    "As in Assignment 0, we define the Transition and Automaton classes. They are structured the same as previously. We have included, however, a few validation methods that ensure that the Automaton is consistent at all time. You do not need to change anything here, but give it a thorough read anyway.  "
   ]
  },
  {
   "cell_type": "code",
   "execution_count": 1,
   "metadata": {
    "deletable": false,
    "editable": false,
    "nbgrader": {
     "cell_type": "code",
     "checksum": "ce7306715a7d9346da93bd73099ffb85",
     "grade": false,
     "grade_id": "defs",
     "locked": true,
     "schema_version": 3,
     "solution": false
    }
   },
   "outputs": [],
   "source": [
    "from collections import namedtuple\n",
    "\n",
    "from util import plot_automaton\n",
    "\n",
    "\n",
    "Transition = namedtuple(typename='Transition', field_names=[\n",
    "                        'source', 'event', 'target'])\n",
    "\n",
    "\n",
    "class Automaton(object):\n",
    "\n",
    "    def __init__(self, states, init, events, trans, marked=None, forbidden=None):\n",
    "        \"\"\"\n",
    "        This is the constructor of the automaton.\n",
    "\n",
    "        At creation, the automaton gets the following attributes assigned:\n",
    "        :param states: A set of states\n",
    "        :param init: The initial state\n",
    "        :param events: A set of events\n",
    "        :param trans: A set of transitions\n",
    "        :param marked: (Optional) A set of marked states\n",
    "        :param forbidden: (Optional) A set of forbidden states\n",
    "        \"\"\"\n",
    "        self.states = states\n",
    "        self.init = init\n",
    "        self.events = events\n",
    "        self.trans = trans\n",
    "        self.marked = marked if marked else set()\n",
    "        self.forbidden = forbidden if forbidden else set()\n",
    "\n",
    "    def __str__(self):\n",
    "        \"\"\"\n",
    "        Prints the automaton in a pretty way.\n",
    "        \"\"\"\n",
    "        return 'states: \\n\\t{}\\n' \\\n",
    "               'init: \\n\\t{}\\n' \\\n",
    "               'events: \\n\\t{}\\n' \\\n",
    "               'transitions: \\n\\t{}\\n' \\\n",
    "               'marked: \\n\\t{}\\n' \\\n",
    "               'forbidden: \\n\\t{}\\n'.format(\n",
    "                   self.states, self.init, self.events,\n",
    "                   '\\n\\t'.join([str(t) for t in self.trans]), self.marked, self.forbidden)\n",
    "\n",
    "    def __setattr__(self, name, value):\n",
    "        \"\"\"Validates and protects the attributes of the automaton\"\"\"\n",
    "        if name in ('states', 'events'):\n",
    "            value = frozenset(self._validate_set(value))\n",
    "        elif name == 'init':\n",
    "            value = self._validate_init(value)\n",
    "        elif name == 'trans':\n",
    "            value = frozenset(self._validate_transitions(value))\n",
    "        elif name in ('marked', 'forbidden'):\n",
    "            value = frozenset(self._validate_subset(value))\n",
    "        super(Automaton, self).__setattr__(name, value)\n",
    "\n",
    "    def __getattribute__(self, name):\n",
    "        \"\"\"Returns a regular set of the accessed attribute\"\"\"\n",
    "        if name in ('states', 'events', 'trans', 'marked', 'forbidden'):\n",
    "            return set(super(Automaton, self).__getattribute__(name))\n",
    "        else:\n",
    "            return super(Automaton, self).__getattribute__(name)\n",
    "\n",
    "    def __eq__(self, other):\n",
    "        \"\"\"Checks if two Automata are the same\"\"\"\n",
    "        if type(other) is type(self):\n",
    "            return self.__dict__ == other.__dict__\n",
    "        return False\n",
    "\n",
    "    @staticmethod\n",
    "    def _validate_set(states):\n",
    "        \"\"\"Checks that states is a set and the states in it are strings or integers\"\"\"\n",
    "        assert isinstance(states, set)\n",
    "        for state in states:\n",
    "            assert isinstance(state, str) or isinstance(\n",
    "                state, int), 'A state must be either of type string or integer!'\n",
    "        return states\n",
    "\n",
    "    def _validate_subset(self, subset):\n",
    "        \"\"\"Validates the set and checks whether the states in the subset are part of the state set\"\"\"\n",
    "        subset = self._validate_set(subset)\n",
    "        assert subset.issubset(\n",
    "            self.states), 'Marked and forbidden states must be subsets of all states!'\n",
    "        return subset\n",
    "\n",
    "    def _validate_init(self, state):\n",
    "        \"\"\"Checks whether the state is part of the state set\"\"\"\n",
    "        assert isinstance(state, str) or isinstance(\n",
    "            state, int), 'The initial state must be of type string or integer!'\n",
    "        assert state in self.states, 'The initial state must be member of states!'\n",
    "        return state\n",
    "\n",
    "    def _validate_transitions(self, transitions):\n",
    "        \"\"\"Checks that all transition elements are part in the respective sets (states, events)\"\"\"\n",
    "        assert isinstance(transitions, set)\n",
    "        for transition in transitions:\n",
    "            assert isinstance(transition, Transition)\n",
    "            assert transition.source in self.states\n",
    "            assert transition.event in self.events\n",
    "            assert transition.target in self.states\n",
    "        return transitions"
   ]
  },
  {
   "cell_type": "markdown",
   "metadata": {
    "deletable": false,
    "editable": false,
    "nbgrader": {
     "cell_type": "markdown",
     "checksum": "caf7fda28bc36ac8a4159b2a3415f723",
     "grade": false,
     "grade_id": "cell-9d31ed14c04b490c",
     "locked": true,
     "schema_version": 3,
     "solution": false
    }
   },
   "source": [
    "- - -"
   ]
  },
  {
   "cell_type": "markdown",
   "metadata": {
    "deletable": false,
    "editable": false,
    "nbgrader": {
     "cell_type": "markdown",
     "checksum": "75f5f17ba552bd3a24c31033e2659268",
     "grade": false,
     "grade_id": "cell-777ac3adcbea1aa1",
     "locked": true,
     "schema_version": 3,
     "solution": false
    }
   },
   "source": [
    "# Task 1\n",
    "\n",
    "## Task 1.1 - Reachability v.1 ***[1p]***\n",
    "\n",
    "To start with, we revisit a few of the functions that you have implemented already in the previous assignment. Whereas Assignment 0 was intended to provide you with a test bench for programming in Python and developing algorithmic understanding, this task is to ensure that you got a correct implementation of `reach` for the rest of the assignment. You might be able to copy your previous solution here. \n",
    "\n",
    "A simple reachability algorithm based on set logic is as follows:\n",
    "\n",
    "**Algorithm 1.** Reachability($\\delta, Q_0$)\n",
    "\n",
    ">**let** $k:=0$\n",
    ">\n",
    ">**repeat**\n",
    ">\n",
    ">>$k := k+1$\n",
    ">>\n",
    ">>$Q_k := Q_{k-1} \\cup \\{q^+ \\mid \\exists q \\in Q_{k-1} \\wedge \\delta(q,\\sigma) = q^+ \\}$\n",
    ">>\n",
    ">**until** $Q_k = Q_{k-1}$\n",
    ">\n",
    "**return** $Q_k$\n",
    "\n",
    "This is a so called fix point operation. We want you to implement a version of this algorithm. Check the lecture notes for further explanation. Other implementations, that use e.g. a recursion, will not be accepted even if correct.\n",
    "\n",
    "\n",
    "Here are some helper functions that might help you with your implementation of the algorithm in code.\n"
   ]
  },
  {
   "cell_type": "code",
   "execution_count": 2,
   "metadata": {
    "deletable": false,
    "editable": false,
    "nbgrader": {
     "cell_type": "code",
     "checksum": "c41df9738455891f1bb38f71fd2ad298",
     "grade": false,
     "grade_id": "cell-7662cb2eea3fb197",
     "locked": true,
     "schema_version": 3,
     "solution": false
    }
   },
   "outputs": [],
   "source": [
    "def filter_trans_by_source(trans, states_to_keep):\n",
    "    \"\"\"Returns a new set containing all transitions where the source is in states_to_keep\"\"\"\n",
    "    return {t for t in trans if t.source in states_to_keep}\n",
    "\n",
    "def filter_trans_by_events(trans, events_to_keep):\n",
    "    \"\"\"Returns a new set containing all transitions where the event is in events_to_keep\"\"\"\n",
    "    return {t for t in trans if t.event in events_to_keep}\n",
    "\n",
    "def filter_trans_by_target(trans, states_to_keep):\n",
    "    \"\"\"Returns a new set containing all transitions where the target is in states_to_keep\"\"\"\n",
    "    return {t for t in trans if t.target in states_to_keep}\n",
    "\n",
    "def extract_elems_from_trans(trans, field):\n",
    "    \"\"\" \n",
    "    Returns a new set with just the elements in a field of all transitions. \n",
    "    E.g. field='source' for all source states \n",
    "    or field='event' or field='target'\n",
    "    \"\"\"\n",
    "    return {getattr(t, field) for t in trans}\n",
    "\n",
    "def flip_trans(trans):\n",
    "    \"\"\" Flips the direction of the transitions in the set\"\"\"\n",
    "    return {Transition(t.target, t.event, t.source) for t in trans}"
   ]
  },
  {
   "cell_type": "code",
   "execution_count": 3,
   "metadata": {
    "deletable": false,
    "nbgrader": {
     "cell_type": "code",
     "checksum": "a844d77453045950b506ab9c7aceaa16",
     "grade": false,
     "grade_id": "reach_impl",
     "locked": false,
     "schema_version": 3,
     "solution": true
    }
   },
   "outputs": [],
   "source": [
    "def reach(trans, start_states):\n",
    "    \"\"\"\n",
    "    Returns the forward reachable states of a transition set\n",
    "    \n",
    "    :param trans: set of transitions\n",
    "    :param start_states: set of states\n",
    "    \"\"\"\n",
    "    reach_states = set(start_states)\n",
    "    prev_states = 0\n",
    "    \n",
    "    while True:\n",
    "        to_check = filter_trans_by_source(trans, reach_states)\n",
    "        new_states = extract_elems_from_trans(to_check, 'target')\n",
    "        reach_states.update(new_states)\n",
    "    \n",
    "        if len(reach_states) == prev_states:\n",
    "            break\n",
    "        prev_states = len(reach_states)\n",
    "        \n",
    "    return reach_states"
   ]
  },
  {
   "cell_type": "markdown",
   "metadata": {
    "deletable": false,
    "editable": false,
    "nbgrader": {
     "cell_type": "markdown",
     "checksum": "7966fcac1ac894e648f1bdad43e6ee85",
     "grade": false,
     "grade_id": "cell-71d53c13a25e4833",
     "locked": true,
     "schema_version": 3,
     "solution": false
    }
   },
   "source": [
    "As before, the below is a test cell. You can execute it to test your function with different inputs. The **assert** statements make sure that your function returns the expected results. We encourage you to add also your own tests."
   ]
  },
  {
   "cell_type": "code",
   "execution_count": null,
   "metadata": {},
   "outputs": [],
   "source": []
  },
  {
   "cell_type": "code",
   "execution_count": 4,
   "metadata": {
    "deletable": false,
    "editable": false,
    "nbgrader": {
     "cell_type": "code",
     "checksum": "d147aa40d7785496e53d07b21e7c221b",
     "grade": true,
     "grade_id": "reach_test",
     "locked": true,
     "points": 1,
     "schema_version": 3,
     "solution": false
    }
   },
   "outputs": [],
   "source": [
    "# Single state\n",
    "assert reach(set(), {1}) == {1}\n",
    "assert reach({Transition(1, 'a', 1)}, {1}) == {1}\n",
    "\n",
    "# Simple automata\n",
    "assert reach({Transition(1, 'a', 2)}, {1}) == {1, 2}\n",
    "assert reach({Transition(2, 'a', 1)}, {1}) == {1}\n",
    "assert reach({Transition(2, 'a', 1), Transition(1, 'a', 2)}, {1}) == {1, 2}\n",
    "\n",
    "# Parallel transitions\n",
    "assert reach({Transition(1, 'a', 2), Transition(1, 'b', 2)}, {1}) == {1, 2}\n",
    "assert reach({Transition(2, 'a', 1), Transition(2, 'b', 1)}, {1}) == {1}\n",
    "\n",
    "# Larger automata\n",
    "assert reach({Transition(1, 'a', 2), Transition(2, 'a', 3),\n",
    "              Transition(3, 'a', 1)}, {1}) == {1, 2, 3}"
   ]
  },
  {
   "cell_type": "markdown",
   "metadata": {
    "deletable": false,
    "editable": false,
    "nbgrader": {
     "cell_type": "markdown",
     "checksum": "c0e2547f8aefe97b3569aa32d9f77a29",
     "grade": false,
     "grade_id": "cell-a69216b28b284548",
     "locked": true,
     "schema_version": 3,
     "solution": false
    }
   },
   "source": [
    "## Task 1.2 - Coreachability ***[1p]***\n",
    "\n",
    "Similarly, the set of backwards reachable states is defined as:\n",
    "\n",
    "**Algorithm 2.** BackwardReachability($\\delta, Q_0$)\n",
    "\n",
    ">**let** $k:=0$\n",
    ">\n",
    ">**repeat**\n",
    ">\n",
    ">>$k := k+1$\n",
    ">>\n",
    ">>$Q_k := Q_{k-1} \\cup \\{q \\mid \\delta(q,\\sigma) \\in Q_{k-1} \\}$\n",
    ">>\n",
    ">**until** $Q_k = Q_{k-1}$\n",
    ">\n",
    "**return** $Q_k$\n",
    "\n",
    "* Implement Algorithm 2."
   ]
  },
  {
   "cell_type": "code",
   "execution_count": 5,
   "metadata": {
    "deletable": false,
    "nbgrader": {
     "cell_type": "code",
     "checksum": "4afcb274890df83977f57bb576c7b604",
     "grade": false,
     "grade_id": "coreach_impl",
     "locked": false,
     "schema_version": 3,
     "solution": true
    }
   },
   "outputs": [],
   "source": [
    "def coreach(trans, start_states):\n",
    "    \"\"\"\n",
    "    Returns the coreachable (backward reachable) states of a transition set\n",
    "    \n",
    "    :param trans: set of transitions\n",
    "    :param start_states: set of states\n",
    "    \"\"\"\n",
    "    coreach_states = set(start_states)\n",
    "    prev_states = 0\n",
    "    \n",
    "    while True:\n",
    "        to_check = filter_trans_by_target(trans, coreach_states)\n",
    "        new_states = extract_elems_from_trans(to_check, 'source')\n",
    "        coreach_states.update(new_states)\n",
    "    \n",
    "        if len(coreach_states) == prev_states:\n",
    "            break\n",
    "        prev_states = len(coreach_states)\n",
    "\n",
    "    return coreach_states"
   ]
  },
  {
   "cell_type": "code",
   "execution_count": 6,
   "metadata": {},
   "outputs": [],
   "source": [
    "# Space for your own tests"
   ]
  },
  {
   "cell_type": "code",
   "execution_count": 7,
   "metadata": {
    "deletable": false,
    "editable": false,
    "nbgrader": {
     "cell_type": "code",
     "checksum": "0b483f93217fedde04cba251d4a6264a",
     "grade": true,
     "grade_id": "coreach_test",
     "locked": true,
     "points": 1,
     "schema_version": 3,
     "solution": false
    }
   },
   "outputs": [],
   "source": [
    "# Single state\n",
    "assert coreach(set(), {1}) == {1}\n",
    "assert coreach({Transition(1, 'a', 1)}, {1}) == {1}\n",
    "\n",
    "# Simple automata\n",
    "assert coreach({Transition(1, 'a', 2)}, {1}) == {1}\n",
    "assert coreach({Transition(2, 'a', 1)}, {1}) == {1, 2}\n",
    "assert coreach({Transition(2, 'a', 1), Transition(1, 'a', 2)}, {1}) == {1, 2}\n",
    "\n",
    "# Parallel transitions\n",
    "assert coreach({Transition(1, 'a', 2), Transition(1, 'b', 2)}, {1}) == {1}\n",
    "assert coreach({Transition(2, 'a', 1), Transition(2, 'b', 1)}, {1}) == {1, 2}\n",
    "\n",
    "# Larger automata\n",
    "assert coreach({Transition(1, 'a', 2), Transition(2, 'a', 3),\n",
    "                Transition(3, 'a', 1)}, {1}) == {1, 2, 3}"
   ]
  },
  {
   "cell_type": "markdown",
   "metadata": {
    "deletable": false,
    "editable": false,
    "nbgrader": {
     "cell_type": "markdown",
     "checksum": "f991b4f90cd1a77a6fdf4430705609c1",
     "grade": false,
     "grade_id": "cell-f2d73c6861db02ba",
     "locked": true,
     "schema_version": 3,
     "solution": false
    }
   },
   "source": [
    "## Task 1.3 - Synchronous composition ***[1p]***\n",
    "* Implement the synchronous composition of two automaton. Exclude all unreachble states in the result.\n",
    "\n",
    "* *Note:* The synchronization function can be implemented in different ways. We suggest to loop through all events, taking common and individual events for the two automata into account. In this event loop appropriate states are merged together according to the basic definition. A number of unreachable states will then be included.   \n",
    "* *Note:* The synchronized function shall include the complete automaton, including any marked and forbidden states of the synchronized automaton."
   ]
  },
  {
   "cell_type": "markdown",
   "metadata": {
    "deletable": false,
    "editable": false,
    "nbgrader": {
     "cell_type": "markdown",
     "checksum": "e9b01ce9e620d883b4eb8dde0c6af7c4",
     "grade": false,
     "grade_id": "cell-8a945b045ba8cc42",
     "locked": true,
     "schema_version": 3,
     "solution": false
    }
   },
   "source": [
    "Here are again some helper functions that might help you with your implementation of the algorithm in code."
   ]
  },
  {
   "cell_type": "code",
   "execution_count": 8,
   "metadata": {
    "deletable": false,
    "editable": false,
    "nbgrader": {
     "cell_type": "code",
     "checksum": "f21048ba9b7f56a3780ee978d7dff3ba",
     "grade": false,
     "grade_id": "cell-ae071b4d012abf77",
     "locked": true,
     "schema_version": 3,
     "solution": false
    }
   },
   "outputs": [],
   "source": [
    "def merge_label(label1, label2):\n",
    "    \"\"\"Creates a new label based on two labels\"\"\"\n",
    "    return '{}.{}'.format(label1, label2)\n",
    "\n",
    "def cross_product(setA, setB):\n",
    "    \"\"\"Computes the crossproduct of two sets\"\"\"\n",
    "    return {merge_label(a, b) for b in setB for a in setA}"
   ]
  },
  {
   "cell_type": "code",
   "execution_count": 24,
   "metadata": {
    "deletable": false,
    "nbgrader": {
     "cell_type": "code",
     "checksum": "a0ed587fb41e7ab5cf747281a0e2307c",
     "grade": false,
     "grade_id": "synch_impl",
     "locked": false,
     "schema_version": 3,
     "solution": true
    },
    "scrolled": true
   },
   "outputs": [],
   "source": [
    "def synch(aut1, aut2):\n",
    "    \"\"\"\n",
    "    Returns the synchronous composition of two automata.\n",
    "    \n",
    "    :param aut1: Automaton\n",
    "    :param aut2: Automaton\n",
    "    \"\"\"\n",
    "    # Predefine what we know\n",
    "    states = cross_product(aut1.states, aut2.states)\n",
    "    init_state = merge_label(aut1.init, aut2.init)\n",
    "    events = aut2.events.union(aut1.events)\n",
    "    trans_to_rem = set()\n",
    "    \n",
    "    # Construct synchronized automaton\n",
    "    aut1aut2 = Automaton(\n",
    "    states=states,\n",
    "    init=init_state,\n",
    "    events=events,\n",
    "    trans=trans_to_rem        \n",
    "    )\n",
    "    \n",
    "    # Find all possible transitions\n",
    "    for event in events:\n",
    "        if event in aut1.events and event in aut2.events:\n",
    "            shared_trans1 = filter_trans_by_events(aut1.trans, {event})\n",
    "            shared_trans2 = filter_trans_by_events(aut2.trans, {event})\n",
    "            for (shared_source1, shared_event1, shared_target1) in shared_trans1:\n",
    "                for (shared_source2, shared_event2, shared_target2) in shared_trans2:\n",
    "                    shared_source = merge_label(shared_source1, shared_source2)\n",
    "                    shared_target = merge_label(shared_target1, shared_target2)\n",
    "                    trans_to_rem.update({Transition(shared_source, event, shared_target)})\n",
    "        elif event in aut1.events:\n",
    "            local1_trans1 = filter_trans_by_events(aut1.trans, {event})\n",
    "            for (local1_source1, local1_event1, local1_target1) in local1_trans1:\n",
    "                for state in aut2.states:\n",
    "                    local1_source = merge_label(local1_source1, state)\n",
    "                    local1_target = merge_label(local1_target1, state)\n",
    "                    trans_to_rem.update({Transition(local1_source, event, local1_target)})  \n",
    "        elif event in aut2.events:\n",
    "            local2_trans2 = filter_trans_by_events(aut2.trans, {event})\n",
    "            for (local2_source2, local2_event2, local2_target2) in local2_trans2:\n",
    "                for state in aut1.states:\n",
    "                    local2_source = merge_label(state, local2_source2)\n",
    "                    local2_target = merge_label(state, local2_target2)\n",
    "                    trans_to_rem.update({Transition(local2_source, event, local2_target)})  \n",
    "    \n",
    "    # Reachable states and transitions\n",
    "    states = reach(trans_to_rem, {init_state}) \n",
    "    aut1aut2.states = states\n",
    "    trans_to_keep = filter_trans_by_source(trans_to_rem, states)\n",
    "    trans_to_keep = filter_trans_by_target(trans_to_keep, states)\n",
    "    aut1aut2.trans = trans_to_keep\n",
    "    \n",
    "    # Marked\n",
    "    if aut1.marked != set() and aut2.marked != set():\n",
    "        aut1aut2.marked = cross_product(aut1.marked, aut2.marked).intersection(aut1aut2.states)\n",
    "    elif aut1.marked != set():\n",
    "        aut1aut2.marked = cross_product(aut1.marked, aut2.states).intersection(aut1aut2.states)\n",
    "    elif aut2.marked != set():\n",
    "        aut1aut2.marked = cross_product(aut1.states, aut2.marked).intersection(aut1aut2.states)\n",
    "    \n",
    "    # Forbidden\n",
    "    aut1aut2.forbidden = cross_product(aut1.forbidden, aut2.states).union(cross_product(aut1.states, aut2.forbidden))\n",
    "\n",
    "    return aut1aut2\n",
    "     \n",
    "    \n",
    "\n",
    "# Test the synch function with 2 automata\n",
    "b1 = Automaton(states={'a', 'b'},\n",
    "               init='a',\n",
    "               events={1},\n",
    "               trans={Transition('a', 1, 'b')},\n",
    "               marked={'b'})\n",
    "b2 = Automaton(states={'c', 'd', 'e'},\n",
    "               init='c',\n",
    "               events={1, 2},\n",
    "               trans={Transition('c', 1, 'd'), Transition('d', 2, 'e'), Transition('e', 1, 'c')})\n",
    "b1b2 = synch(b1, b2)"
   ]
  },
  {
   "cell_type": "code",
   "execution_count": null,
   "metadata": {},
   "outputs": [],
   "source": []
  },
  {
   "cell_type": "code",
   "execution_count": 26,
   "metadata": {
    "deletable": false,
    "editable": false,
    "nbgrader": {
     "cell_type": "code",
     "checksum": "8953adfb0d9a4080a01b34b07e0f927c",
     "grade": true,
     "grade_id": "synch_test",
     "locked": true,
     "points": 1,
     "schema_version": 3,
     "solution": false
    }
   },
   "outputs": [],
   "source": [
    "# Two 1-state automata\n",
    "a1 = Automaton(states={1},\n",
    "               init=1,\n",
    "               events=set(),\n",
    "               trans=set())\n",
    "a2 = Automaton(states={2},\n",
    "               init=2,\n",
    "               events=set(),\n",
    "               trans=set())\n",
    "a1a2 = synch(a1, a2)\n",
    "assert a1a2.states == {'1.2'}  # TC - 1.1\n",
    "assert a1a2.init == '1.2'  # TC - 1.2\n",
    "assert a1a2.events == set()  # TC - 1.3\n",
    "assert a1a2.trans == set()  # TC - 1.4\n",
    "\n",
    "a1 = Automaton(states={1},\n",
    "               init=1,\n",
    "               events=set(),\n",
    "               trans=set(),\n",
    "               marked={1})\n",
    "a2 = Automaton(states={2},\n",
    "               init=2,\n",
    "               events=set(),\n",
    "               trans=set())\n",
    "a1a2 = synch(a1, a2)\n",
    "assert a1a2.states == {'1.2'}  # TC - 2.1\n",
    "assert a1a2.init == '1.2'  # TC - 2.2\n",
    "assert a1a2.events == set()  # TC - 2.3\n",
    "assert a1a2.trans == set()  # TC - 2.4\n",
    "assert a1a2.marked == {'1.2'}  # TC - 2.5\n",
    "\n",
    "a1 = Automaton(states={1},\n",
    "               init=1,\n",
    "               events=set(),\n",
    "               trans=set(),\n",
    "               forbidden={1})\n",
    "a2 = Automaton(states={2},\n",
    "               init=2,\n",
    "               events=set(),\n",
    "               trans=set())\n",
    "a1a2 = synch(a1, a2)\n",
    "assert a1a2.states == {'1.2'}  # TC - 3.1\n",
    "assert a1a2.init == '1.2'  # TC - 3.2\n",
    "assert a1a2.events == set()  # TC - 3.3\n",
    "assert a1a2.trans == set()  # TC - 3.4\n",
    "assert a1a2.forbidden == {'1.2'}  # TC - 3.5\n",
    "\n",
    "# 2-state automaton and 1-state automaton\n",
    "a1 = Automaton(states={1, 2},\n",
    "               init=1,\n",
    "               events={'a'},\n",
    "               trans={Transition(1, 'a', 2)},\n",
    "               marked={2})\n",
    "a2 = Automaton(states={3},\n",
    "               init=3,\n",
    "               events=set(),\n",
    "               trans=set())\n",
    "a1a2 = synch(a1, a2)\n",
    "assert a1a2.states == {'1.3', '2.3'}  # TC - 4.1\n",
    "assert a1a2.init == '1.3'  # TC - 4.2\n",
    "assert a1a2.events == {'a'}  # TC - 4.3\n",
    "assert a1a2.trans == {Transition('1.3', 'a', '2.3')}  # TC - 4.4\n",
    "assert a1a2.marked == {'2.3'}  # TC - 4.5\n",
    "\n",
    "a1 = Automaton(states={1, 2},\n",
    "               init=1,\n",
    "               events={'a'},\n",
    "               trans={Transition(1, 'a', 2)},\n",
    "               forbidden={2})\n",
    "a2 = Automaton(states={3},\n",
    "               init=3,\n",
    "               events=set(),\n",
    "               trans=set())\n",
    "a1a2 = synch(a1, a2)\n",
    "assert a1a2.states == {'1.3', '2.3'}  # TC - 5.1\n",
    "assert a1a2.init == '1.3'  # TC - 5.2\n",
    "assert a1a2.events == {'a'}  # TC - 5.3\n",
    "assert a1a2.trans == {Transition('1.3', 'a', '2.3')}  # TC - 5.5\n",
    "assert a1a2.forbidden == {'2.3'}  # TC - 5.6\n",
    "\n",
    "# Two 2-state automata\n",
    "a1 = Automaton(states={1, 2},\n",
    "               init=1,\n",
    "               events={'a'},\n",
    "               trans={Transition(1, 'a', 2)},\n",
    "               marked={2})\n",
    "a2 = Automaton(states={3, 4},\n",
    "               init=3,\n",
    "               events={'b'},\n",
    "               trans={Transition(3, 'b', 4)})\n",
    "a1a2 = synch(a1, a2)\n",
    "assert a1a2.states == {'1.3', '2.3', '1.4', '2.4'}  # TC - 6.1\n",
    "assert a1a2.init == '1.3'  # TC - 6.2\n",
    "assert a1a2.events == {'a', 'b'}  # TC - 6.3\n",
    "assert a1a2.trans == {Transition('1.3', 'a', '2.3'), Transition(\n",
    "    '1.4', 'a', '2.4'), Transition('1.3', 'b', '1.4'), Transition('2.3', 'b', '2.4')}  # TC -6.4\n",
    "assert a1a2.marked == {'2.3', '2.4'}  # TC - 6.5\n",
    "\n",
    "a1 = Automaton(states={1, 2},\n",
    "               init=1,\n",
    "               events={'a'},\n",
    "               trans={Transition(1, 'a', 2)},\n",
    "               marked={2})\n",
    "a2 = Automaton(states={3, 4},\n",
    "               init=3,\n",
    "               events={'a'},\n",
    "               trans={Transition(3, 'a', 4)})\n",
    "a1a2 = synch(a1, a2)\n",
    "assert a1a2.states == {'1.3', '2.4'}  # TC - 7.1\n",
    "assert a1a2.init == '1.3'  # TC - 7.2\n",
    "assert a1a2.events == {'a'}  # TC - 7.3\n",
    "assert a1a2.trans == {Transition('1.3', 'a', '2.4')}  # TC - 7.4\n",
    "assert a1a2.marked == {'2.4'}  # TC - 7.5\n",
    "\n",
    "a1 = Automaton(states={1, 2},\n",
    "               init=1,\n",
    "               events={'a'},\n",
    "               trans={Transition(1, 'a', 2)},\n",
    "               forbidden={2})\n",
    "a2 = Automaton(states={3, 4},\n",
    "               init=3,\n",
    "               events={'b'},\n",
    "               trans={Transition(3, 'b', 4)},\n",
    "               forbidden={4})\n",
    "a1a2 = synch(a1, a2)\n",
    "assert a1a2.states == {'1.3', '2.3', '1.4', '2.4'}  # TC - 8.1\n",
    "assert a1a2.init == '1.3'  # TC - 8.2\n",
    "assert a1a2.events == {'a', 'b'}  # TC - 8.3\n",
    "assert a1a2.trans == {Transition('1.3', 'a', '2.3'), Transition(\n",
    "    '1.4', 'a', '2.4'), Transition('1.3', 'b', '1.4'), Transition('2.3', 'b', '2.4')}  # TC - 8.4\n",
    "assert a1a2.forbidden == {'2.3', '1.4', '2.4'}  # TC - 8.5\n",
    "\n",
    "a1 = Automaton(states={1, 2},\n",
    "               init=1,\n",
    "               events={'a', 'b'},\n",
    "               trans={Transition(1, 'a', 2)},\n",
    "               marked={2})\n",
    "a2 = Automaton(states={3, 4},\n",
    "               init=3,\n",
    "               events={'b'},\n",
    "               trans={Transition(3, 'b', 4)})\n",
    "a1a2 = synch(a1, a2)\n",
    "assert a1a2.states == {'1.3', '2.3'}  # TC - 9.1\n",
    "assert a1a2.init == '1.3'  # TC - 9.2\n",
    "assert a1a2.events == {'a', 'b'}  # TC - 9.3\n",
    "assert a1a2.trans == {Transition('1.3', 'a', '2.3')}  # TC - 9.4\n",
    "assert a1a2.marked == {'2.3'}  # TC - 9.5\n",
    "\n",
    "# Different symbols\n",
    "b1 = Automaton(states={'a', 'b'},\n",
    "               init='a',\n",
    "               events={1, 2},\n",
    "               trans={Transition('a', 1, 'b')},\n",
    "               marked={'b'})\n",
    "b2 = Automaton(states={'c', 'd'},\n",
    "               init='c',\n",
    "               events={2},\n",
    "               trans={Transition('c', 2, 'd')})\n",
    "b1b2 = synch(b1, b2)\n",
    "assert b1b2.states == {\n",
    "    'a.c', 'b.c'}, 'Different symbols should not cause error!'\n",
    "assert b1b2.init == 'a.c', 'Different symbols should not cause error!'\n",
    "assert b1b2.events == {1, 2}, 'Different symbols should not cause error!'\n",
    "assert b1b2.trans == {Transition(\n",
    "    'a.c', 1, 'b.c')}, 'Different symbols should not cause error!'\n",
    "assert b1b2.marked == {'b.c'}, 'Different symbols should not cause error!'"
   ]
  },
  {
   "cell_type": "markdown",
   "metadata": {
    "deletable": false,
    "editable": false,
    "nbgrader": {
     "cell_type": "markdown",
     "checksum": "3742429ab629f8e2eb6b1aac806a6587",
     "grade": false,
     "grade_id": "cell-6b92e50c737f81e3",
     "locked": true,
     "schema_version": 3,
     "solution": false
    }
   },
   "source": [
    "- - -"
   ]
  },
  {
   "cell_type": "markdown",
   "metadata": {
    "deletable": false,
    "editable": false,
    "nbgrader": {
     "cell_type": "markdown",
     "checksum": "bca1f7d142892f0f0c9093ddf52b7737",
     "grade": false,
     "grade_id": "cell-05e9827dafa4752c",
     "locked": true,
     "schema_version": 3,
     "solution": false
    }
   },
   "source": [
    "# Task 2\n",
    "\n",
    "Consider the following two plant models given by the formal languages\n",
    "\n",
    "<center>\n",
    "    $L(P_1) = \\overline{(ab)^*} \\\\\n",
    "    L(P_2) = \\overline{(c(d+e))^*}$\n",
    "\n",
    "and the marked specification languages \n",
    "\n",
    "<center>\n",
    "    $L_m(Sp_1) = (bc)^* \\\\\n",
    "    L_m(Sp_2) = (cd)^*$\n",
    "    \n",
    "and the synchronised system\n",
    "\n",
    "<center>\n",
    "    $S = P_1 \\parallel P_2 \\parallel Sp_1 \\parallel Sp_2$\n",
    "    \n",
    "The plant models are already given as automaton ***p1*** and ***p2*** below."
   ]
  },
  {
   "cell_type": "code",
   "execution_count": 27,
   "metadata": {
    "deletable": false,
    "editable": false,
    "nbgrader": {
     "cell_type": "code",
     "checksum": "69955b00dd02a33ab6592be610ced397",
     "grade": false,
     "grade_id": "cell-ad8aeb56c0b694ed",
     "locked": true,
     "schema_version": 3,
     "solution": false
    }
   },
   "outputs": [],
   "source": [
    "p1 = Automaton(states={'p11', 'p12'},\n",
    "               init='p11',\n",
    "               events={'a', 'b'},\n",
    "               trans={Transition('p11', 'a', 'p12'),\n",
    "                      Transition('p12', 'b', 'p11')})\n",
    "p2 = Automaton(states={'p21', 'p22'},\n",
    "               init='p21',\n",
    "               events={'c', 'd', 'e'},\n",
    "               trans={Transition('p21', 'c', 'p22'),\n",
    "                      Transition('p22', 'd', 'p21'),\n",
    "                      Transition('p22', 'e', 'p21')})"
   ]
  },
  {
   "cell_type": "markdown",
   "metadata": {
    "deletable": false,
    "editable": false,
    "nbgrader": {
     "cell_type": "markdown",
     "checksum": "fc1ca75136b9958e08db509f6215f234",
     "grade": false,
     "grade_id": "cell-979f0212b4557215",
     "locked": true,
     "schema_version": 3,
     "solution": false
    }
   },
   "source": [
    "## Task 2.1 - Petri Net\n",
    "\n",
    "* Formulate a Petri net for the synchronized system *S* ***[1p]*** \n",
    "* and generate the corresponding reachability graph. ***[1p]***\n",
    "* *Note:* It might be easier to first draw those with a pen on paper and then transfer it into the notebook."
   ]
  },
  {
   "cell_type": "code",
   "execution_count": 28,
   "metadata": {
    "deletable": false,
    "editable": false,
    "nbgrader": {
     "cell_type": "code",
     "checksum": "08e77b1fc0a59e3649b5accd1e8f4b92",
     "grade": false,
     "grade_id": "cell-838094dc99422e39",
     "locked": true,
     "schema_version": 3,
     "solution": false
    }
   },
   "outputs": [
    {
     "data": {
      "image/png": "[encoded data removed]",
      "text/plain": [
       "<IPython.core.display.Image object>"
      ]
     },
     "execution_count": 28,
     "metadata": {},
     "output_type": "execute_result"
    }
   ],
   "source": [
    "from util import plot_petrinet\n",
    "\n",
    "PetriNet = namedtuple(typename='PetriNet', field_names=['places', 'transitions', 'arcs'])\n",
    "Place = namedtuple('Place', ['label', 'marking'])\n",
    "Arc = namedtuple('Arc', ['source', 'target', 'weight'])\n",
    "\n",
    "# You can use the plotting function to plot your petri net for S\n",
    "example = PetriNet(places={Place('p1', 1), Place('p2', 0)},\n",
    "                   transitions={'t1'},\n",
    "                   arcs={Arc('p1', 't1', 1), Arc('t1', 'p2', 1)})\n",
    "plot_petrinet(example, 'example')"
   ]
  },
  {
   "cell_type": "code",
   "execution_count": 65,
   "metadata": {
    "deletable": false,
    "nbgrader": {
     "cell_type": "code",
     "checksum": "5dcdd46ccb0558a41ce015ffff7330e0",
     "grade": false,
     "grade_id": "petri_net_impl",
     "locked": false,
     "schema_version": 3,
     "solution": true
    }
   },
   "outputs": [
    {
     "data": {
      "image/png": "[encoded data removed]",
      "text/plain": [
       "<IPython.core.display.Image object>"
      ]
     },
     "execution_count": 65,
     "metadata": {},
     "output_type": "execute_result"
    }
   ],
   "source": [
    "def make_synchronized_petri_net_S():\n",
    "    \"\"\"\n",
    "    A little helper function to create the Petri net of S.\n",
    "    \n",
    "    You can just hard code the elements of the net just like in the example above.\n",
    "    We will call this function later in the tests.\n",
    "    \"\"\"\n",
    "    PetriNet = namedtuple(typename='PetriNet', field_names=['places', 'transitions', 'arcs'])\n",
    "    Place = namedtuple('Place', ['label', 'marking'])\n",
    "    Arc = namedtuple('Arc', ['source', 'target', 'weight'])\n",
    "    \n",
    "    S = PetriNet(places={Place('p11', 1), Place('p12', 0), Place('p21', 1), Place('p22', 0)},\n",
    "                   transitions={'a', 'b', 'c', 'd', 'e'},\n",
    "                   arcs={Arc('p11', 'a', 1), Arc('a', 'p12', 1), Arc('p12', 'b', 1), Arc('b', 'p11', 1),\n",
    "                        Arc('p21', 'c', 1), Arc('c', 'p22', 1), Arc('p22', 'd', 1), Arc('d', 'p21', 1),\n",
    "                        Arc('p22', 'e', 1), Arc('e', 'p21', 1)})\n",
    "    \n",
    "    S1 = PetriNet(places={Place('p11.p21', 1), Place('p11.p22', 0), Place('p12.p21', 0)},\n",
    "                   transitions={'a', 'b', 'c', 'd', 'e'},\n",
    "                   arcs={Arc('p11.p21', 'c', 1), Arc('c', 'p11.p22', 1), Arc('p11.p22', 'd', 1), Arc('d', 'p11.p21', 1),\n",
    "                        Arc('p11.p22', 'e', 1), Arc('e', 'p11.p21', 1), Arc('p11.p21', 'a', 1), Arc('a', 'p12.p21', 1),\n",
    "                        Arc('p12.p21', 'b', 1), Arc('b', 'p11.p21', 1)})\n",
    "    \n",
    "    return S1\n",
    "\n",
    "plot_petrinet(make_synchronized_petri_net_S(), 'S_petrinet')"
   ]
  },
  {
   "cell_type": "code",
   "execution_count": 59,
   "metadata": {
    "deletable": false,
    "editable": false,
    "nbgrader": {
     "cell_type": "code",
     "checksum": "7baa7d27766102ce80c2a1302beb49f8",
     "grade": true,
     "grade_id": "petri_net_test",
     "locked": true,
     "points": 1,
     "schema_version": 3,
     "solution": false
    }
   },
   "outputs": [
    {
     "ename": "AssertionError",
     "evalue": "",
     "output_type": "error",
     "traceback": [
      "\u001b[1;31m---------------------------------------------------------------------------\u001b[0m",
      "\u001b[1;31mAssertionError\u001b[0m                            Traceback (most recent call last)",
      "Cell \u001b[1;32mIn[59], line 2\u001b[0m\n\u001b[0;32m      1\u001b[0m S \u001b[38;5;241m=\u001b[39m make_synchronized_petri_net_S()\n\u001b[1;32m----> 2\u001b[0m \u001b[38;5;28;01massert\u001b[39;00m \u001b[38;5;28misinstance\u001b[39m(S, PetriNet)\n\u001b[0;32m      3\u001b[0m \u001b[38;5;28;01massert\u001b[39;00m \u001b[38;5;28misinstance\u001b[39m(S\u001b[38;5;241m.\u001b[39mplaces\u001b[38;5;241m.\u001b[39mpop(), Place)\n\u001b[0;32m      4\u001b[0m \u001b[38;5;28;01massert\u001b[39;00m \u001b[38;5;28misinstance\u001b[39m(S\u001b[38;5;241m.\u001b[39marcs\u001b[38;5;241m.\u001b[39mpop(), Arc)\n",
      "\u001b[1;31mAssertionError\u001b[0m: "
     ]
    }
   ],
   "source": [
    "S = make_synchronized_petri_net_S()\n",
    "assert isinstance(S, PetriNet)\n",
    "assert isinstance(S.places.pop(), Place)\n",
    "assert isinstance(S.arcs.pop(), Arc)"
   ]
  },
  {
   "cell_type": "markdown",
   "metadata": {
    "deletable": false,
    "editable": false,
    "nbgrader": {
     "cell_type": "markdown",
     "checksum": "c76c16a20c089c44eb1f6ebd558ea4e9",
     "grade": false,
     "grade_id": "cell-cba3a91dfeb4015e",
     "locked": true,
     "schema_version": 3,
     "solution": false
    }
   },
   "source": [
    "Similarly, we create the reachability graph."
   ]
  },
  {
   "cell_type": "code",
   "execution_count": 44,
   "metadata": {
    "deletable": false,
    "editable": false,
    "nbgrader": {
     "cell_type": "code",
     "checksum": "11f91fc836fce3b529ceac7e050348df",
     "grade": false,
     "grade_id": "cell-2d51f3c9063698a5",
     "locked": true,
     "schema_version": 3,
     "solution": false
    }
   },
   "outputs": [
    {
     "data": {
      "image/png": "[encoded data removed]",
      "text/plain": [
       "<IPython.core.display.Image object>"
      ]
     },
     "execution_count": 44,
     "metadata": {},
     "output_type": "execute_result"
    }
   ],
   "source": [
    "from util import plot_digraph\n",
    "\n",
    "DiGraph = namedtuple(typename='DiGraph', field_names=['nodes', 'init', 'edges'])\n",
    "Edge = namedtuple('Edge', ['source', 'target', 'label'])\n",
    "\n",
    "# You can use the plotting function to plot your reachability graph for S\n",
    "example = DiGraph(nodes={'01', '10'},\n",
    "                  init='01',\n",
    "                  edges={Edge('01', '10', 'a')})\n",
    "plot_digraph(example, 'example')"
   ]
  },
  {
   "cell_type": "code",
   "execution_count": null,
   "metadata": {
    "deletable": false,
    "nbgrader": {
     "cell_type": "code",
     "checksum": "43f4ed4832b34afe71e2ff439397b588",
     "grade": false,
     "grade_id": "reach_graph_impl",
     "locked": false,
     "schema_version": 3,
     "solution": true
    }
   },
   "outputs": [],
   "source": [
    "def make_reachability_graph():\n",
    "    \"\"\"\n",
    "    A little helper function to create the reachability graph of S.\n",
    "    \n",
    "    You can just hard code the elements of the graph just like in the example above.\n",
    "    We will call this function later in the tests.\n",
    "    \"\"\"\n",
    "\n",
    "    return G\n",
    "\n",
    "plot_digraph(make_reachability_graph(), 'S_reach_graph')"
   ]
  },
  {
   "cell_type": "code",
   "execution_count": null,
   "metadata": {
    "deletable": false,
    "editable": false,
    "nbgrader": {
     "cell_type": "code",
     "checksum": "f33de6a78c0614cbe517e6d59273bcf7",
     "grade": true,
     "grade_id": "reach_graph_test",
     "locked": true,
     "points": 1,
     "schema_version": 3,
     "solution": false
    }
   },
   "outputs": [],
   "source": [
    "G = make_reachability_graph()\n",
    "assert isinstance(G, DiGraph)\n",
    "assert isinstance(G.nodes, set)\n",
    "assert all([n.isnumeric() for n in G.nodes])\n",
    "assert isinstance(G.edges.pop(), Edge)"
   ]
  },
  {
   "cell_type": "markdown",
   "metadata": {
    "deletable": false,
    "editable": false,
    "nbgrader": {
     "cell_type": "markdown",
     "checksum": "8ac4e0371cad13bfd04fa92333e80afa",
     "grade": false,
     "grade_id": "cell-a5dca9604793d0ce",
     "locked": true,
     "schema_version": 3,
     "solution": false
    }
   },
   "source": [
    "## Task 2.2 - Synchronized Automaton\n",
    "\n",
    "* Generate the automaton for the synchronized system *S* by the implemented functions `synch`, ***[1p]***\n",
    "* and compare the results with the reachability graph in **2.1**."
   ]
  },
  {
   "cell_type": "code",
   "execution_count": null,
   "metadata": {
    "deletable": false,
    "nbgrader": {
     "cell_type": "code",
     "checksum": "8cd17a92f372661a3ee2b239faf12d06",
     "grade": false,
     "grade_id": "sync_automaton_impl",
     "locked": false,
     "schema_version": 3,
     "solution": true
    }
   },
   "outputs": [],
   "source": [
    "def make_synchronized_automaton_S():\n",
    "    \"\"\"\n",
    "    A little helper function to create the automaton of S.\n",
    "\n",
    "    Define the automata sp1 and sp2 in here too.\n",
    "    We will call this function later in the tests.\n",
    "    \"\"\"\n",
    "    # YOUR CODE HERE\n",
    "    raise NotImplementedError()\n",
    "    return S\n",
    "\n",
    "plot_automaton(make_synchronized_automaton_S(), 'P1P2SP1SP2')"
   ]
  },
  {
   "cell_type": "code",
   "execution_count": null,
   "metadata": {
    "deletable": false,
    "editable": false,
    "nbgrader": {
     "cell_type": "code",
     "checksum": "b0a41345d72be83d819b4f1508a10a43",
     "grade": true,
     "grade_id": "sync_automaton_test",
     "locked": true,
     "points": 1,
     "schema_version": 3,
     "solution": false
    }
   },
   "outputs": [],
   "source": [
    "S = make_synchronized_automaton_S()\n",
    "assert S.init == 'p11.p21.sp11.sp21', 'Please, follow the synchronization order specified in Task 2!'"
   ]
  },
  {
   "cell_type": "markdown",
   "metadata": {
    "deletable": false,
    "editable": false,
    "nbgrader": {
     "cell_type": "markdown",
     "checksum": "a2081ba1bc5e1252411381d43dbdbeec",
     "grade": false,
     "grade_id": "cell-aceb60304219fe5d",
     "locked": true,
     "schema_version": 3,
     "solution": false
    }
   },
   "source": [
    "* Compare the synchronized automaton of *S* to the reachability graph. Write down your conclusions in the cell below. ***[1p]***"
   ]
  },
  {
   "cell_type": "markdown",
   "metadata": {
    "deletable": false,
    "nbgrader": {
     "cell_type": "markdown",
     "checksum": "0ebe6bc5030465aea01f7c9636525e2f",
     "grade": true,
     "grade_id": "comparison",
     "locked": false,
     "points": 1,
     "schema_version": 3,
     "solution": true
    }
   },
   "source": [
    "YOUR ANSWER HERE"
   ]
  },
  {
   "cell_type": "markdown",
   "metadata": {
    "deletable": false,
    "editable": false,
    "nbgrader": {
     "cell_type": "markdown",
     "checksum": "cd25b216219fe3acc5422a1a5f396ac3",
     "grade": false,
     "grade_id": "cell-a346995c24950d73",
     "locked": true,
     "schema_version": 3,
     "solution": false
    }
   },
   "source": [
    "## Task 2.3 - Blocking states\n",
    "\n",
    "* Calculate the reachable and coreachable states in *S* by the implemented functions `reach` and `coreach`, and identify blocking states (states from where no marked state can be reached). ***[1p]***"
   ]
  },
  {
   "cell_type": "code",
   "execution_count": null,
   "metadata": {
    "deletable": false,
    "nbgrader": {
     "cell_type": "code",
     "checksum": "4c9f486ecd7941f650a5daf8c5e0b4c6",
     "grade": false,
     "grade_id": "blocking_impl",
     "locked": false,
     "schema_version": 3,
     "solution": true
    }
   },
   "outputs": [],
   "source": [
    "reachable = None\n",
    "coreachable = None \n",
    "blocking = None\n",
    "# YOUR CODE HERE\n",
    "raise NotImplementedError()\n",
    "\n",
    "print('The blocking states are: ', blocking)"
   ]
  },
  {
   "cell_type": "code",
   "execution_count": null,
   "metadata": {
    "deletable": false,
    "editable": false,
    "nbgrader": {
     "cell_type": "code",
     "checksum": "b91dfc85542e3e375fdde108e40c8639",
     "grade": true,
     "grade_id": "blocking_impl_test",
     "locked": true,
     "points": 1,
     "schema_version": 3,
     "solution": false
    }
   },
   "outputs": [],
   "source": [
    "assert reachable is not None\n",
    "assert coreachable is not None\n",
    "assert blocking is not None"
   ]
  },
  {
   "cell_type": "markdown",
   "metadata": {
    "deletable": false,
    "editable": false,
    "nbgrader": {
     "cell_type": "markdown",
     "checksum": "1ed5bc39b8ab952e6c219f67d4e8e975",
     "grade": false,
     "grade_id": "cell-a92f557ddc69c607",
     "locked": true,
     "schema_version": 3,
     "solution": false
    }
   },
   "source": [
    "## Task 2.4 - Modified Spec\n",
    "\n",
    "* Modify the specifications to avoid the blocking states, and verify that no blocking states are achieved by showing that the reachable and coreachable states of *S* are the same for the modified specifications. ***[1p]***\n",
    "* Explain your modifications first in natural language. ***[1p]***"
   ]
  },
  {
   "cell_type": "markdown",
   "metadata": {
    "deletable": false,
    "nbgrader": {
     "cell_type": "markdown",
     "checksum": "146ae3067a1913f922f4085f2dbbeba5",
     "grade": true,
     "grade_id": "cell-620d9d0d05fe0bec",
     "locked": false,
     "points": 1,
     "schema_version": 3,
     "solution": true
    }
   },
   "source": [
    "YOUR ANSWER HERE"
   ]
  },
  {
   "cell_type": "code",
   "execution_count": null,
   "metadata": {
    "deletable": false,
    "nbgrader": {
     "cell_type": "code",
     "checksum": "4f8ee0a60e6ddb0462e5c7f90039f285",
     "grade": false,
     "grade_id": "sp1_new",
     "locked": false,
     "schema_version": 3,
     "solution": true
    }
   },
   "outputs": [],
   "source": [
    "sp1_new = None\n",
    "\n",
    "# YOUR CODE HERE\n",
    "raise NotImplementedError()\n",
    "\n",
    "plot_automaton(sp1_new, 'SP1_new') "
   ]
  },
  {
   "cell_type": "code",
   "execution_count": null,
   "metadata": {
    "deletable": false,
    "nbgrader": {
     "cell_type": "code",
     "checksum": "3d83f2873a0bdf470d54141b8f39a050",
     "grade": false,
     "grade_id": "sp2_new",
     "locked": false,
     "schema_version": 3,
     "solution": true
    }
   },
   "outputs": [],
   "source": [
    "sp2_new = None\n",
    "\n",
    "# YOUR CODE HERE\n",
    "raise NotImplementedError()\n",
    "\n",
    "plot_automaton(sp2_new, 'SP2_new') "
   ]
  },
  {
   "cell_type": "code",
   "execution_count": null,
   "metadata": {
    "deletable": false,
    "nbgrader": {
     "cell_type": "code",
     "checksum": "fe3c186521a8902b2aaeb06e1a89481d",
     "grade": false,
     "grade_id": "S_new_impl",
     "locked": false,
     "schema_version": 3,
     "solution": true
    }
   },
   "outputs": [],
   "source": [
    "# Now synchronize with the new specifications\n",
    "S_new = synch(synch(p1, p2), synch(sp1_new, sp2_new))\n",
    "\n",
    "reachable_new = None\n",
    "coreachable_new = None \n",
    "blocking_new = None\n",
    "# YOUR CODE HERE\n",
    "raise NotImplementedError()\n",
    "\n",
    "print('The blocking states now are: ', blocking_new)\n",
    "plot_automaton(S_new, 'S_new') "
   ]
  },
  {
   "cell_type": "code",
   "execution_count": null,
   "metadata": {
    "deletable": false,
    "editable": false,
    "nbgrader": {
     "cell_type": "code",
     "checksum": "5398fe911bfffb8501d9dfba68cf5fc2",
     "grade": true,
     "grade_id": "S_new_test",
     "locked": true,
     "points": 1,
     "schema_version": 3,
     "solution": false
    }
   },
   "outputs": [],
   "source": [
    "assert reachable_new is not None\n",
    "assert coreachable_new is not None\n",
    "assert blocking_new is not None\n"
   ]
  },
  {
   "cell_type": "markdown",
   "metadata": {
    "deletable": false,
    "editable": false,
    "nbgrader": {
     "cell_type": "markdown",
     "checksum": "cab5ba54e320d918b52e976ef86313f7",
     "grade": false,
     "grade_id": "cell-ca4413be58012d08",
     "locked": true,
     "schema_version": 3,
     "solution": false
    }
   },
   "source": [
    "- - -\n",
    "\n",
    "Congratulations! You have reached the end of the assignment. Now,\n",
    "\n",
    "* Save the notebook\n",
    "* Upload the .ipynb file to Canvas\n",
    "* Enjoy the rest of the day! "
   ]
  }
 ],
 "metadata": {
  "kernelspec": {
   "display_name": "Python 3 (ipykernel)",
   "language": "python",
   "name": "python3"
  },
  "language_info": {
   "codemirror_mode": {
    "name": "ipython",
    "version": 3
   },
   "file_extension": ".py",
   "mimetype": "text/x-python",
   "name": "python",
   "nbconvert_exporter": "python",
   "pygments_lexer": "ipython3",
   "version": "3.11.4"
  },
  "latex_envs": {
   "LaTeX_envs_menu_present": true,
   "autoclose": false,
   "autocomplete": true,
   "bibliofile": "biblio.bib",
   "cite_by": "apalike",
   "current_citInitial": 1,
   "eqLabelWithNumbers": true,
   "eqNumInitial": 1,
   "hotkeys": {
    "equation": "Ctrl-E",
    "itemize": "Ctrl-I"
   },
   "labels_anchors": false,
   "latex_user_defs": false,
   "report_style_numbering": false,
   "user_envs_cfg": false
  }
 },
 "nbformat": 4,
 "nbformat_minor": 2
}
